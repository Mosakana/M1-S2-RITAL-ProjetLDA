{
 "cells": [
  {
   "cell_type": "code",
   "execution_count": 2,
   "id": "initial_id",
   "metadata": {
    "collapsed": true,
    "ExecuteTime": {
     "end_time": "2024-04-21T14:54:35.778791500Z",
     "start_time": "2024-04-21T14:54:33.212339800Z"
    }
   },
   "outputs": [],
   "source": [
    "from lda import lda\n",
    "from lda import load_docs_in_bow, process_vectors, average_document_length, assign_topic\n",
    "import numpy as np\n",
    "from collections import Counter"
   ]
  },
  {
   "cell_type": "code",
   "execution_count": 3,
   "outputs": [],
   "source": [
    "N_TOPIC = 10\n",
    "EPOCHS = 200\n",
    "ALPHA = 0.5\n",
    "BETA = 0.01\n",
    "BATCH = 50"
   ],
   "metadata": {
    "collapsed": false,
    "ExecuteTime": {
     "end_time": "2024-04-21T14:54:35.810036300Z",
     "start_time": "2024-04-21T14:54:35.794505800Z"
    }
   },
   "id": "e031cc34a48ebf50"
  },
  {
   "cell_type": "code",
   "execution_count": 4,
   "outputs": [],
   "source": [
    "path_to_doc = \"../data/docs_trec_covid\"\n",
    "\n",
    "vocabulary, vectors, doc_id = load_docs_in_bow(path_to_doc, n_doc=100)\n",
    "\n",
    "dict_document = process_vectors(vectors)"
   ],
   "metadata": {
    "collapsed": false,
    "ExecuteTime": {
     "end_time": "2024-04-21T14:54:35.873214600Z",
     "start_time": "2024-04-21T14:54:35.794505800Z"
    }
   },
   "id": "149f16554fc59cfc"
  },
  {
   "cell_type": "code",
   "execution_count": 5,
   "outputs": [
    {
     "name": "stdout",
     "output_type": "stream",
     "text": [
      "2629\n",
      "78.17\n"
     ]
    }
   ],
   "source": [
    "print(len(vocabulary))\n",
    "print(average_document_length(dict_document))"
   ],
   "metadata": {
    "collapsed": false,
    "ExecuteTime": {
     "end_time": "2024-04-21T14:54:35.873214600Z",
     "start_time": "2024-04-21T14:54:35.841288800Z"
    }
   },
   "id": "d061bb692402fe08"
  },
  {
   "cell_type": "code",
   "execution_count": 11,
   "outputs": [],
   "source": [
    "def int2string(dict_document, doc_id, vocabulary):\n",
    "    new_dict_document = {}\n",
    "    \n",
    "    for document, word_topic in dict_document.items():\n",
    "        new_dict_document[doc_id[document]] = list(map(lambda x: (vocabulary[x[0]], x[1]), word_topic))\n",
    "        \n",
    "    return new_dict_document"
   ],
   "metadata": {
    "collapsed": false,
    "ExecuteTime": {
     "end_time": "2024-04-21T15:10:57.864300300Z",
     "start_time": "2024-04-21T15:10:57.784810600Z"
    }
   },
   "id": "6769218e68d1a847"
  },
  {
   "cell_type": "code",
   "execution_count": 6,
   "outputs": [],
   "source": [
    "topic_assignment = assign_topic(dict_document, N_TOPIC)"
   ],
   "metadata": {
    "collapsed": false,
    "ExecuteTime": {
     "end_time": "2024-04-21T14:54:39.550235Z",
     "start_time": "2024-04-21T14:54:39.518701700Z"
    }
   },
   "id": "ad8f2f2409001a5a"
  },
  {
   "cell_type": "code",
   "execution_count": 7,
   "outputs": [
    {
     "name": "stdout",
     "output_type": "stream",
     "text": [
      "------- Starting 1 iteration -------\n",
      "------- Starting 2 iteration -------\n",
      "------- Starting 3 iteration -------\n",
      "------- Starting 4 iteration -------\n",
      "------- Starting 5 iteration -------\n",
      "------- Starting 6 iteration -------\n",
      "------- Starting 7 iteration -------\n",
      "------- Starting 8 iteration -------\n",
      "------- Starting 9 iteration -------\n",
      "------- Starting 10 iteration -------\n",
      "------- Starting 11 iteration -------\n",
      "------- Starting 12 iteration -------\n",
      "------- Starting 13 iteration -------\n",
      "------- Starting 14 iteration -------\n",
      "------- Starting 15 iteration -------\n",
      "------- Starting 16 iteration -------\n",
      "------- Starting 17 iteration -------\n",
      "------- Starting 18 iteration -------\n",
      "------- Starting 19 iteration -------\n",
      "------- Starting 20 iteration -------\n",
      "------- Starting 21 iteration -------\n",
      "------- Starting 22 iteration -------\n",
      "------- Starting 23 iteration -------\n",
      "------- Starting 24 iteration -------\n",
      "------- Starting 25 iteration -------\n",
      "------- Starting 26 iteration -------\n",
      "------- Starting 27 iteration -------\n",
      "------- Starting 28 iteration -------\n",
      "------- Starting 29 iteration -------\n",
      "------- Starting 30 iteration -------\n",
      "------- Starting 31 iteration -------\n",
      "------- Starting 32 iteration -------\n",
      "------- Starting 33 iteration -------\n",
      "------- Starting 34 iteration -------\n",
      "------- Starting 35 iteration -------\n",
      "------- Starting 36 iteration -------\n",
      "------- Starting 37 iteration -------\n",
      "------- Starting 38 iteration -------\n",
      "------- Starting 39 iteration -------\n",
      "------- Starting 40 iteration -------\n",
      "------- Starting 41 iteration -------\n",
      "------- Starting 42 iteration -------\n",
      "------- Starting 43 iteration -------\n",
      "------- Starting 44 iteration -------\n",
      "------- Starting 45 iteration -------\n",
      "------- Starting 46 iteration -------\n",
      "------- Starting 47 iteration -------\n",
      "------- Starting 48 iteration -------\n",
      "------- Starting 49 iteration -------\n",
      "------- Starting 50 iteration -------\n",
      "after 0 iterations, learning converges : False\n",
      "\n",
      "------- Starting 1 iteration -------\n",
      "------- Starting 2 iteration -------\n",
      "------- Starting 3 iteration -------\n",
      "------- Starting 4 iteration -------\n",
      "------- Starting 5 iteration -------\n",
      "------- Starting 6 iteration -------\n",
      "------- Starting 7 iteration -------\n",
      "------- Starting 8 iteration -------\n",
      "------- Starting 9 iteration -------\n",
      "------- Starting 10 iteration -------\n",
      "------- Starting 11 iteration -------\n",
      "------- Starting 12 iteration -------\n",
      "------- Starting 13 iteration -------\n",
      "------- Starting 14 iteration -------\n",
      "------- Starting 15 iteration -------\n",
      "------- Starting 16 iteration -------\n",
      "------- Starting 17 iteration -------\n",
      "------- Starting 18 iteration -------\n",
      "------- Starting 19 iteration -------\n",
      "------- Starting 20 iteration -------\n",
      "------- Starting 21 iteration -------\n",
      "------- Starting 22 iteration -------\n",
      "------- Starting 23 iteration -------\n",
      "------- Starting 24 iteration -------\n",
      "------- Starting 25 iteration -------\n",
      "------- Starting 26 iteration -------\n",
      "------- Starting 27 iteration -------\n",
      "------- Starting 28 iteration -------\n",
      "------- Starting 29 iteration -------\n",
      "------- Starting 30 iteration -------\n",
      "------- Starting 31 iteration -------\n",
      "------- Starting 32 iteration -------\n",
      "------- Starting 33 iteration -------\n",
      "------- Starting 34 iteration -------\n",
      "------- Starting 35 iteration -------\n",
      "------- Starting 36 iteration -------\n",
      "------- Starting 37 iteration -------\n",
      "------- Starting 38 iteration -------\n",
      "------- Starting 39 iteration -------\n",
      "------- Starting 40 iteration -------\n",
      "------- Starting 41 iteration -------\n",
      "------- Starting 42 iteration -------\n",
      "------- Starting 43 iteration -------\n",
      "------- Starting 44 iteration -------\n",
      "------- Starting 45 iteration -------\n",
      "------- Starting 46 iteration -------\n",
      "------- Starting 47 iteration -------\n",
      "------- Starting 48 iteration -------\n",
      "------- Starting 49 iteration -------\n",
      "------- Starting 50 iteration -------\n",
      "after 50 iterations, learning converges : False\n",
      "\n",
      "------- Starting 1 iteration -------\n",
      "------- Starting 2 iteration -------\n",
      "------- Starting 3 iteration -------\n",
      "------- Starting 4 iteration -------\n",
      "------- Starting 5 iteration -------\n",
      "------- Starting 6 iteration -------\n",
      "------- Starting 7 iteration -------\n",
      "------- Starting 8 iteration -------\n",
      "------- Starting 9 iteration -------\n",
      "------- Starting 10 iteration -------\n",
      "------- Starting 11 iteration -------\n",
      "------- Starting 12 iteration -------\n",
      "------- Starting 13 iteration -------\n",
      "------- Starting 14 iteration -------\n",
      "------- Starting 15 iteration -------\n",
      "------- Starting 16 iteration -------\n",
      "------- Starting 17 iteration -------\n",
      "------- Starting 18 iteration -------\n",
      "------- Starting 19 iteration -------\n",
      "------- Starting 20 iteration -------\n",
      "------- Starting 21 iteration -------\n",
      "------- Starting 22 iteration -------\n",
      "------- Starting 23 iteration -------\n",
      "------- Starting 24 iteration -------\n",
      "------- Starting 25 iteration -------\n",
      "\n",
      "------- Starting 26 iteration -------\n",
      "------- Starting 27 iteration -------\n",
      "------- Starting 28 iteration -------\n",
      "------- Starting 29 iteration -------\n",
      "------- Starting 30 iteration -------\n",
      "------- Starting 31 iteration -------\n",
      "------- Starting 32 iteration -------\n",
      "------- Starting 33 iteration -------\n",
      "------- Starting 34 iteration -------\n",
      "------- Starting 35 iteration -------\n",
      "------- Starting 36 iteration -------\n",
      "------- Starting 37 iteration -------\n",
      "------- Starting 38 iteration -------\n",
      "------- Starting 39 iteration -------\n",
      "------- Starting 40 iteration -------\n",
      "------- Starting 41 iteration -------\n",
      "------- Starting 42 iteration -------\n",
      "------- Starting 43 iteration -------\n",
      "------- Starting 44 iteration -------\n",
      "------- Starting 45 iteration -------\n",
      "------- Starting 46 iteration -------\n",
      "------- Starting 47 iteration -------\n",
      "------- Starting 48 iteration -------\n",
      "------- Starting 49 iteration -------\n",
      "------- Starting 50 iteration -------\n",
      "after 100 iterations, learning converges : False\n",
      "\n",
      "------- Starting 1 iteration -------\n",
      "------- Starting 2 iteration -------\n",
      "------- Starting 3 iteration -------\n",
      "------- Starting 4 iteration -------\n",
      "------- Starting 5 iteration -------\n",
      "------- Starting 6 iteration -------\n",
      "------- Starting 7 iteration -------\n",
      "------- Starting 8 iteration -------\n",
      "------- Starting 9 iteration -------\n",
      "------- Starting 10 iteration -------\n",
      "------- Starting 11 iteration -------\n",
      "------- Starting 12 iteration -------\n",
      "------- Starting 13 iteration -------\n",
      "------- Starting 14 iteration -------\n",
      "------- Starting 15 iteration -------\n",
      "------- Starting 16 iteration -------\n",
      "------- Starting 17 iteration -------\n",
      "------- Starting 18 iteration -------\n",
      "------- Starting 19 iteration -------\n",
      "------- Starting 20 iteration -------\n",
      "------- Starting 21 iteration -------\n",
      "------- Starting 22 iteration -------\n",
      "------- Starting 23 iteration -------\n",
      "------- Starting 24 iteration -------\n",
      "------- Starting 25 iteration -------\n",
      "------- Starting 26 iteration -------\n",
      "------- Starting 27 iteration -------\n",
      "------- Starting 28 iteration -------\n",
      "------- Starting 29 iteration -------\n",
      "------- Starting 30 iteration -------\n",
      "------- Starting 31 iteration -------\n",
      "------- Starting 32 iteration -------\n",
      "------- Starting 33 iteration -------\n",
      "------- Starting 34 iteration -------\n",
      "------- Starting 35 iteration -------\n",
      "------- Starting 36 iteration -------\n",
      "------- Starting 37 iteration -------\n",
      "------- Starting 38 iteration -------\n",
      "------- Starting 39 iteration -------\n",
      "------- Starting 40 iteration -------\n",
      "------- Starting 41 iteration -------\n",
      "------- Starting 42 iteration -------\n",
      "------- Starting 43 iteration -------\n",
      "------- Starting 44 iteration -------\n",
      "------- Starting 45 iteration -------\n",
      "------- Starting 46 iteration -------\n",
      "------- Starting 47 iteration -------\n",
      "------- Starting 48 iteration -------\n",
      "------- Starting 49 iteration -------\n",
      "------- Starting 50 iteration -------\n",
      "after 150 iterations, learning converges : False\n"
     ]
    }
   ],
   "source": [
    "for i in range(EPOCHS // BATCH):\n",
    "    topic_assignment, is_converge = lda(topic_assignment, N_TOPIC, len(vocabulary), BATCH, ALPHA, BETA)\n",
    "    print(f'after {(i + 1) * BATCH} iterations, learning converges : {is_converge}\\n')"
   ],
   "metadata": {
    "collapsed": false,
    "ExecuteTime": {
     "end_time": "2024-04-21T15:03:13.274656500Z",
     "start_time": "2024-04-21T14:54:41.113709300Z"
    }
   },
   "id": "d98a8d141ebc3bb9"
  },
  {
   "cell_type": "code",
   "execution_count": 14,
   "outputs": [
    {
     "name": "stdout",
     "output_type": "stream",
     "text": [
      "------- Starting 1 iteration -------\n",
      "------- Starting 2 iteration -------\n",
      "------- Starting 3 iteration -------\n",
      "------- Starting 4 iteration -------\n",
      "------- Starting 5 iteration -------\n",
      "------- Starting 6 iteration -------\n",
      "------- Starting 7 iteration -------\n",
      "------- Starting 8 iteration -------\n",
      "------- Starting 9 iteration -------\n",
      "------- Starting 10 iteration -------\n",
      "------- Starting 11 iteration -------\n",
      "------- Starting 12 iteration -------\n",
      "------- Starting 13 iteration -------\n",
      "------- Starting 14 iteration -------\n",
      "------- Starting 15 iteration -------\n",
      "------- Starting 16 iteration -------\n",
      "------- Starting 17 iteration -------\n",
      "------- Starting 18 iteration -------\n",
      "------- Starting 19 iteration -------\n",
      "------- Starting 20 iteration -------\n",
      "------- Starting 21 iteration -------\n",
      "------- Starting 22 iteration -------\n",
      "------- Starting 23 iteration -------\n",
      "------- Starting 24 iteration -------\n",
      "------- Starting 25 iteration -------\n",
      "------- Starting 26 iteration -------\n",
      "------- Starting 27 iteration -------\n",
      "------- Starting 28 iteration -------\n",
      "------- Starting 29 iteration -------\n",
      "------- Starting 30 iteration -------\n",
      "------- Starting 31 iteration -------\n",
      "------- Starting 32 iteration -------\n",
      "------- Starting 33 iteration -------\n",
      "------- Starting 34 iteration -------\n",
      "------- Starting 35 iteration -------\n",
      "------- Starting 36 iteration -------\n",
      "------- Starting 37 iteration -------\n",
      "------- Starting 38 iteration -------\n",
      "------- Starting 39 iteration -------\n",
      "------- Starting 40 iteration -------\n",
      "------- Starting 41 iteration -------\n",
      "------- Starting 42 iteration -------\n",
      "------- Starting 43 iteration -------\n",
      "------- Starting 44 iteration -------\n",
      "------- Starting 45 iteration -------\n",
      "------- Starting 46 iteration -------\n",
      "------- Starting 47 iteration -------\n",
      "------- Starting 48 iteration -------\n",
      "------- Starting 49 iteration -------\n",
      "------- Starting 50 iteration -------\n"
     ]
    }
   ],
   "source": [
    "topic_assignment, is_converge = lda(topic_assignment, N_TOPIC, len(vocabulary), BATCH, ALPHA, BETA)"
   ],
   "metadata": {
    "collapsed": false,
    "ExecuteTime": {
     "end_time": "2024-04-21T15:14:04.162720700Z",
     "start_time": "2024-04-21T15:11:57.065135600Z"
    }
   },
   "id": "de9d3ba052fa399"
  },
  {
   "cell_type": "code",
   "execution_count": 9,
   "outputs": [
    {
     "name": "stdout",
     "output_type": "stream",
     "text": [
      "False\n"
     ]
    }
   ],
   "source": [
    "print(is_converge)"
   ],
   "metadata": {
    "collapsed": false,
    "ExecuteTime": {
     "end_time": "2024-04-21T15:06:02.249239200Z",
     "start_time": "2024-04-21T15:06:02.138086800Z"
    }
   },
   "id": "b6031bb7eeb08db0"
  },
  {
   "cell_type": "code",
   "execution_count": 12,
   "outputs": [],
   "source": [
    "dict_string_1 = int2string(topic_assignment, doc_id, vocabulary)"
   ],
   "metadata": {
    "collapsed": false,
    "ExecuteTime": {
     "end_time": "2024-04-21T15:11:21.386965200Z",
     "start_time": "2024-04-21T15:11:21.334633800Z"
    }
   },
   "id": "497f6a6118bb90e5"
  },
  {
   "cell_type": "code",
   "execution_count": 13,
   "outputs": [
    {
     "name": "stdout",
     "output_type": "stream",
     "text": [
      "[('abdulaziz', 1), ('acquir', 1), ('admiss', 1), ('affect', 1), ('age', 0), ('arabia', 1), ('associ', 1), ('breath', 1), ('bronchial', 1), ('bronchiol', 1), ('chart', 0), ('children', 1), ('clinic', 0), ('common', 1), ('communiti', 2), ('comorbid', 1), ('complic', 1), ('conclus', 8), ('cough', 1), ('crepit', 1), ('cultur', 1), ('data', 0), ('decemb', 1), ('describ', 9), ('die', 1), ('due', 2), ('epidemiolog', 0), ('except', 1), ('fall', 1), ('featur', 2), ('fever', 1), ('find', 0), ('follow', 6), ('four', 1), ('group', 8), ('high', 0), ('hospit', 8), ('identifi', 1), ('immunocompromi', 0), ('infant', 1), ('infect', 0), ('isol', 1), ('januari', 1), ('jeddah', 0), ('king', 1), ('like', 1), ('malai', 0), ('method', 8), ('microbiolog', 1), ('mortal', 0), ('mycoplasma', 1), ('non', 1), ('object', 6), ('occur', 0), ('patient', 0), ('pneumonia', 1), ('posit', 0), ('pre', 0), ('preschool', 2), ('present', 6), ('proven', 2), ('publish', 9), ('quarter', 1), ('rate', 0), ('record', 1), ('recov', 1), ('recoveri', 1), ('requir', 2), ('respiratori', 1), ('result', 0), ('retrospect', 0), ('review', 1), ('round', 0), ('saudi', 1), ('school', 1), ('sign', 1), ('similar', 6), ('specimen', 1), ('spring', 1), ('symptom', 2), ('three', 1), ('tract', 1), ('twenti', 1), ('unev', 1), ('univ', 1), ('upper', 1), ('versus', 1), ('wheez', 1), ('year', 0)]\n"
     ]
    }
   ],
   "source": [
    "print(dict_string_1[doc_id[0]])"
   ],
   "metadata": {
    "collapsed": false,
    "ExecuteTime": {
     "end_time": "2024-04-21T15:11:28.977544500Z",
     "start_time": "2024-04-21T15:11:28.855659300Z"
    }
   },
   "id": "cd9afbe55b7c4a68"
  },
  {
   "cell_type": "code",
   "execution_count": 15,
   "outputs": [],
   "source": [
    "dict_string_2 = int2string(topic_assignment, doc_id, vocabulary)"
   ],
   "metadata": {
    "collapsed": false,
    "ExecuteTime": {
     "end_time": "2024-04-21T15:14:24.944046700Z",
     "start_time": "2024-04-21T15:14:24.849875700Z"
    }
   },
   "id": "ee11ecc4f40bf2a5"
  },
  {
   "cell_type": "code",
   "execution_count": 16,
   "outputs": [
    {
     "name": "stdout",
     "output_type": "stream",
     "text": [
      "[('abdulaziz', 0), ('acquir', 1), ('admiss', 1), ('affect', 1), ('age', 0), ('arabia', 8), ('associ', 1), ('breath', 1), ('bronchial', 1), ('bronchiol', 1), ('chart', 1), ('children', 1), ('clinic', 0), ('common', 1), ('communiti', 2), ('comorbid', 1), ('complic', 0), ('conclus', 8), ('cough', 0), ('crepit', 1), ('cultur', 1), ('data', 0), ('decemb', 0), ('describ', 9), ('die', 9), ('due', 8), ('epidemiolog', 1), ('except', 8), ('fall', 1), ('featur', 6), ('fever', 1), ('find', 8), ('follow', 6), ('four', 1), ('group', 0), ('high', 4), ('hospit', 8), ('identifi', 1), ('immunocompromi', 0), ('infant', 1), ('infect', 0), ('isol', 1), ('januari', 1), ('jeddah', 1), ('king', 1), ('like', 1), ('malai', 1), ('method', 8), ('microbiolog', 5), ('mortal', 0), ('mycoplasma', 0), ('non', 1), ('object', 6), ('occur', 0), ('patient', 1), ('pneumonia', 1), ('posit', 5), ('pre', 0), ('preschool', 1), ('present', 0), ('proven', 6), ('publish', 1), ('quarter', 1), ('rate', 1), ('record', 1), ('recov', 1), ('recoveri', 1), ('requir', 5), ('respiratori', 1), ('result', 0), ('retrospect', 0), ('review', 1), ('round', 0), ('saudi', 1), ('school', 1), ('sign', 1), ('similar', 0), ('specimen', 1), ('spring', 1), ('symptom', 0), ('three', 6), ('tract', 1), ('twenti', 1), ('unev', 1), ('univ', 6), ('upper', 1), ('versus', 1), ('wheez', 1), ('year', 0)]\n"
     ]
    }
   ],
   "source": [
    "print(dict_string_2[doc_id[0]])"
   ],
   "metadata": {
    "collapsed": false,
    "ExecuteTime": {
     "end_time": "2024-04-21T15:14:35.982682400Z",
     "start_time": "2024-04-21T15:14:35.849008200Z"
    }
   },
   "id": "d4157bbf6f1de183"
  },
  {
   "cell_type": "code",
   "execution_count": null,
   "outputs": [],
   "source": [],
   "metadata": {
    "collapsed": false
   },
   "id": "e37381b55fe5338"
  }
 ],
 "metadata": {
  "kernelspec": {
   "display_name": "Python 3",
   "language": "python",
   "name": "python3"
  },
  "language_info": {
   "codemirror_mode": {
    "name": "ipython",
    "version": 2
   },
   "file_extension": ".py",
   "mimetype": "text/x-python",
   "name": "python",
   "nbconvert_exporter": "python",
   "pygments_lexer": "ipython2",
   "version": "2.7.6"
  }
 },
 "nbformat": 4,
 "nbformat_minor": 5
}
