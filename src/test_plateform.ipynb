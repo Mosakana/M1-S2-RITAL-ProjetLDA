{
 "cells": [
  {
   "cell_type": "code",
   "execution_count": 1,
   "id": "initial_id",
   "metadata": {
    "collapsed": true,
    "ExecuteTime": {
     "end_time": "2024-04-24T13:27:39.361955900Z",
     "start_time": "2024-04-24T13:27:38.667284Z"
    }
   },
   "outputs": [],
   "source": [
    "from lda import lda\n",
    "from lda import load_docs_in_bow, process_vectors, average_document_length, assign_topic, get_word_assignment_info, get_document_assignment_info, get_term_probability, compute_cf, query_score\n",
    "import numpy as np\n",
    "from collections import Counter"
   ]
  },
  {
   "cell_type": "code",
   "execution_count": 2,
   "outputs": [],
   "source": [
    "N_TOPIC = 10\n",
    "EPOCHS = 1000\n",
    "ALPHA = 0.5\n",
    "BETA = 0.01\n",
    "BATCH = 50"
   ],
   "metadata": {
    "collapsed": false,
    "ExecuteTime": {
     "end_time": "2024-04-24T13:27:39.378092500Z",
     "start_time": "2024-04-24T13:27:39.364463200Z"
    }
   },
   "id": "e031cc34a48ebf50"
  },
  {
   "cell_type": "code",
   "execution_count": 3,
   "outputs": [],
   "source": [
    "path_to_doc = \"../data/docs_trec_covid\"\n",
    "\n",
    "vocabulary, vectors, doc_id = load_docs_in_bow(path_to_doc, n_doc=10)\n",
    "\n",
    "dict_document = process_vectors(vectors)"
   ],
   "metadata": {
    "collapsed": false,
    "ExecuteTime": {
     "end_time": "2024-04-24T13:27:39.406949300Z",
     "start_time": "2024-04-24T13:27:39.380092300Z"
    }
   },
   "id": "149f16554fc59cfc"
  },
  {
   "cell_type": "code",
   "execution_count": 4,
   "outputs": [
    {
     "name": "stdout",
     "output_type": "stream",
     "text": [
      "551\n",
      "73.1\n"
     ]
    }
   ],
   "source": [
    "print(len(vocabulary))\n",
    "print(average_document_length(dict_document))"
   ],
   "metadata": {
    "collapsed": false,
    "ExecuteTime": {
     "end_time": "2024-04-24T13:27:39.415950300Z",
     "start_time": "2024-04-24T13:27:39.395092300Z"
    }
   },
   "id": "d061bb692402fe08"
  },
  {
   "cell_type": "code",
   "execution_count": 5,
   "outputs": [],
   "source": [
    "def int2string(dict_document, doc_id, vocabulary):\n",
    "    new_dict_document = {}\n",
    "    \n",
    "    for document, word_topic in dict_document.items():\n",
    "        new_dict_document[doc_id[document]] = list(map(lambda x: (vocabulary[x[0]], x[1]), word_topic))\n",
    "        \n",
    "    return new_dict_document"
   ],
   "metadata": {
    "collapsed": false,
    "ExecuteTime": {
     "end_time": "2024-04-24T13:27:39.425941300Z",
     "start_time": "2024-04-24T13:27:39.410940800Z"
    }
   },
   "id": "6769218e68d1a847"
  },
  {
   "cell_type": "code",
   "execution_count": 6,
   "outputs": [],
   "source": [
    "topic_assignment = assign_topic(dict_document, N_TOPIC)"
   ],
   "metadata": {
    "collapsed": false,
    "ExecuteTime": {
     "end_time": "2024-04-24T13:27:39.469468100Z",
     "start_time": "2024-04-24T13:27:39.425941300Z"
    }
   },
   "id": "ad8f2f2409001a5a"
  },
  {
   "cell_type": "code",
   "execution_count": 7,
   "outputs": [
    {
     "name": "stdout",
     "output_type": "stream",
     "text": [
      "------- Starting 1 iteration -------\n",
      "------- Starting 2 iteration -------\n",
      "------- Starting 3 iteration -------\n",
      "------- Starting 4 iteration -------\n",
      "------- Starting 5 iteration -------\n",
      "------- Starting 6 iteration -------\n",
      "------- Starting 7 iteration -------\n",
      "------- Starting 8 iteration -------\n",
      "------- Starting 9 iteration -------\n",
      "------- Starting 10 iteration -------\n",
      "------- Starting 11 iteration -------\n",
      "------- Starting 12 iteration -------\n",
      "------- Starting 13 iteration -------\n",
      "------- Starting 14 iteration -------\n",
      "------- Starting 15 iteration -------\n",
      "------- Starting 16 iteration -------\n",
      "------- Starting 17 iteration -------\n",
      "------- Starting 18 iteration -------\n",
      "------- Starting 19 iteration -------\n",
      "------- Starting 20 iteration -------\n",
      "------- Starting 21 iteration -------\n",
      "------- Starting 22 iteration -------\n",
      "------- Starting 23 iteration -------\n",
      "------- Starting 24 iteration -------\n",
      "------- Starting 25 iteration -------\n",
      "------- Starting 26 iteration -------\n",
      "------- Starting 27 iteration -------\n",
      "------- Starting 28 iteration -------\n",
      "------- Starting 29 iteration -------\n",
      "------- Starting 30 iteration -------\n",
      "------- Starting 31 iteration -------\n",
      "------- Starting 32 iteration -------\n",
      "------- Starting 33 iteration -------\n",
      "------- Starting 34 iteration -------\n",
      "------- Starting 35 iteration -------\n",
      "------- Starting 36 iteration -------\n",
      "------- Starting 37 iteration -------\n",
      "------- Starting 38 iteration -------\n",
      "------- Starting 39 iteration -------\n",
      "------- Starting 40 iteration -------\n",
      "------- Starting 41 iteration -------\n",
      "------- Starting 42 iteration -------\n",
      "------- Starting 43 iteration -------\n",
      "------- Starting 44 iteration -------\n",
      "------- Starting 45 iteration -------\n",
      "------- Starting 46 iteration -------\n",
      "------- Starting 47 iteration -------\n",
      "------- Starting 48 iteration -------\n",
      "------- Starting 49 iteration -------\n",
      "------- Starting 50 iteration -------\n",
      "after 50 iterations, learning converges : False\n",
      "\n",
      "------- Starting 1 iteration -------\n",
      "------- Starting 2 iteration -------\n",
      "------- Starting 3 iteration -------\n",
      "------- Starting 4 iteration -------\n",
      "------- Starting 5 iteration -------\n",
      "------- Starting 6 iteration -------\n",
      "------- Starting 7 iteration -------\n",
      "------- Starting 8 iteration -------\n",
      "------- Starting 9 iteration -------\n",
      "------- Starting 10 iteration -------\n",
      "------- Starting 11 iteration -------\n",
      "------- Starting 12 iteration -------\n",
      "------- Starting 13 iteration -------\n",
      "------- Starting 14 iteration -------\n",
      "------- Starting 15 iteration -------\n",
      "------- Starting 16 iteration -------\n",
      "------- Starting 17 iteration -------\n",
      "------- Starting 18 iteration -------\n",
      "------- Starting 19 iteration -------\n",
      "------- Starting 20 iteration -------\n",
      "------- Starting 21 iteration -------\n",
      "------- Starting 22 iteration -------\n",
      "------- Starting 23 iteration -------\n",
      "------- Starting 24 iteration -------\n",
      "------- Starting 25 iteration -------\n",
      "------- Starting 26 iteration -------\n",
      "------- Starting 27 iteration -------\n",
      "------- Starting 28 iteration -------\n",
      "------- Starting 29 iteration -------\n",
      "------- Starting 30 iteration -------\n",
      "------- Starting 31 iteration -------\n",
      "------- Starting 32 iteration -------\n",
      "------- Starting 33 iteration -------\n",
      "------- Starting 34 iteration -------\n",
      "------- Starting 35 iteration -------\n",
      "------- Starting 36 iteration -------\n",
      "------- Starting 37 iteration -------\n",
      "------- Starting 38 iteration -------\n",
      "------- Starting 39 iteration -------\n",
      "------- Starting 40 iteration -------\n",
      "------- Starting 41 iteration -------\n",
      "------- Starting 42 iteration -------\n",
      "------- Starting 43 iteration -------\n",
      "------- Starting 44 iteration -------\n",
      "------- Starting 45 iteration -------\n",
      "------- Starting 46 iteration -------\n",
      "------- Starting 47 iteration -------\n",
      "------- Starting 48 iteration -------\n",
      "------- Starting 49 iteration -------\n",
      "------- Starting 50 iteration -------\n",
      "after 100 iterations, learning converges : False\n",
      "\n",
      "------- Starting 1 iteration -------\n",
      "------- Starting 2 iteration -------\n",
      "------- Starting 3 iteration -------\n",
      "------- Starting 4 iteration -------\n",
      "------- Starting 5 iteration -------\n",
      "------- Starting 6 iteration -------\n",
      "------- Starting 7 iteration -------\n",
      "------- Starting 8 iteration -------\n",
      "------- Starting 9 iteration -------\n",
      "------- Starting 10 iteration -------\n",
      "------- Starting 11 iteration -------\n",
      "------- Starting 12 iteration -------\n",
      "------- Starting 13 iteration -------\n",
      "------- Starting 14 iteration -------\n",
      "------- Starting 15 iteration -------\n",
      "------- Starting 16 iteration -------\n",
      "------- Starting 17 iteration -------\n",
      "------- Starting 18 iteration -------\n",
      "------- Starting 19 iteration -------\n",
      "------- Starting 20 iteration -------\n",
      "------- Starting 21 iteration -------\n",
      "------- Starting 22 iteration -------\n",
      "------- Starting 23 iteration -------\n",
      "------- Starting 24 iteration -------\n",
      "------- Starting 25 iteration -------\n",
      "------- Starting 26 iteration -------\n",
      "------- Starting 27 iteration -------\n",
      "------- Starting 28 iteration -------\n",
      "------- Starting 29 iteration -------\n",
      "------- Starting 30 iteration -------\n",
      "------- Starting 31 iteration -------\n",
      "------- Starting 32 iteration -------\n",
      "------- Starting 33 iteration -------\n",
      "------- Starting 34 iteration -------\n",
      "------- Starting 35 iteration -------\n",
      "------- Starting 36 iteration -------\n",
      "------- Starting 37 iteration -------\n",
      "------- Starting 38 iteration -------\n",
      "------- Starting 39 iteration -------\n",
      "------- Starting 40 iteration -------\n",
      "------- Starting 41 iteration -------\n",
      "------- Starting 42 iteration -------\n",
      "------- Starting 43 iteration -------\n",
      "------- Starting 44 iteration -------\n",
      "------- Starting 45 iteration -------\n",
      "------- Starting 46 iteration -------\n",
      "------- Starting 47 iteration -------\n",
      "------- Starting 48 iteration -------\n",
      "------- Starting 49 iteration -------\n",
      "------- Starting 50 iteration -------\n",
      "after 150 iterations, learning converges : True\n"
     ]
    }
   ],
   "source": [
    "for i in range(EPOCHS // BATCH):\n",
    "    topic_assignment, is_converge = lda(topic_assignment, N_TOPIC, len(vocabulary), BATCH, ALPHA, BETA)\n",
    "    print(f'after {(i + 1) * BATCH} iterations, learning converges : {is_converge}\\n')\n",
    "    if is_converge:\n",
    "        break"
   ],
   "metadata": {
    "collapsed": false,
    "ExecuteTime": {
     "end_time": "2024-04-24T13:28:36.215838200Z",
     "start_time": "2024-04-24T13:27:39.441940500Z"
    }
   },
   "id": "d98a8d141ebc3bb9"
  },
  {
   "cell_type": "code",
   "execution_count": 8,
   "outputs": [
    {
     "name": "stdout",
     "output_type": "stream",
     "text": [
      "True\n"
     ]
    }
   ],
   "source": [
    "print(is_converge)"
   ],
   "metadata": {
    "collapsed": false,
    "ExecuteTime": {
     "end_time": "2024-04-24T13:28:36.228435Z",
     "start_time": "2024-04-24T13:28:36.212395Z"
    }
   },
   "id": "b6031bb7eeb08db0"
  },
  {
   "cell_type": "code",
   "execution_count": 9,
   "outputs": [],
   "source": [
    "# def get_word_wise_assignment(topic_assignment, vocabulary, n_topics, n_vocabularies):\n",
    "#     matrix_word_topic = np.zeros((n_vocabularies, n_topics))\n",
    "#     for word_topic in topic_assignment.values():\n",
    "#         for word, topic in word_topic:\n",
    "#             matrix_word_topic[word, topic] += 1\n",
    "# \n",
    "#     return matrix_word_topic\n",
    "# \n",
    "# \n",
    "# def get_word_assignment_info(topic_assignment, vocabulary, n_topics, n_vocabularies, top_topic=5, top_word=10):\n",
    "#     word_topic_matrix = get_word_wise_assignment(topic_assignment, vocabulary, n_topics, n_vocabularies)\n",
    "#     top_topic_index = np.argsort(word_topic_matrix.sum(axis=0))[::-1]\n",
    "#     topic_percentage = np.sort(word_topic_matrix.sum(axis=0) / word_topic_matrix.sum())[::-1]\n",
    "#     print(f'------- The top {top_topic} topics-------\\n')\n",
    "#     print(f'It\\'s top {top_word} words:')\n",
    "#     for t in range(top_topic):\n",
    "#         print(f'- topic {top_topic_index[t]} ({topic_percentage[t] * 100 :.2f}%)')\n",
    "#         word_assigment_vector = word_topic_matrix[:, top_topic_index[t]]\n",
    "#         top_word_index = np.argsort(word_assigment_vector)[::-1]\n",
    "#         word_percentage = np.sort(word_assigment_vector / word_assigment_vector.sum())[::-1]\n",
    "#         for w in range(top_word):\n",
    "#             print(f'\\t- {vocabulary[top_word_index[w]]} ({word_percentage[w] * 100:.2f}%)')"
   ],
   "metadata": {
    "collapsed": false,
    "ExecuteTime": {
     "end_time": "2024-04-24T13:28:36.272147300Z",
     "start_time": "2024-04-24T13:28:36.230521500Z"
    }
   },
   "id": "7a164e22e55af349"
  },
  {
   "cell_type": "code",
   "execution_count": 10,
   "outputs": [
    {
     "name": "stdout",
     "output_type": "stream",
     "text": [
      "------- The top 5 topics -------\n",
      "\n",
      "It's top 10 words:\n",
      "- topic 0 (13.00%)\n",
      "\t- lung (3.16%)\n",
      "\t- mani (3.16%)\n",
      "\t- disea (3.16%)\n",
      "\t- protein (3.16%)\n",
      "\t- review (3.16%)\n",
      "\t- evid (3.16%)\n",
      "\t- oxid (3.16%)\n",
      "\t- mediat (3.16%)\n",
      "\t- inflammatori (3.16%)\n",
      "\t- pulmonari (3.16%)\n",
      "- topic 2 (11.63%)\n",
      "\t- genom (2.35%)\n",
      "\t- respon (2.35%)\n",
      "\t- express (2.35%)\n",
      "\t- alter (2.35%)\n",
      "\t- respiratori (2.35%)\n",
      "\t- epith (2.35%)\n",
      "\t- isol (2.35%)\n",
      "\t- specif (2.35%)\n",
      "\t- mice (2.35%)\n",
      "\t- various (2.35%)\n",
      "- topic 7 (9.99%)\n",
      "\t- patient (2.74%)\n",
      "\t- common (2.74%)\n",
      "\t- abdulaziz (1.37%)\n",
      "\t- restrict (1.37%)\n",
      "\t- proven (1.37%)\n",
      "\t- publish (1.37%)\n",
      "\t- quarter (1.37%)\n",
      "\t- question (1.37%)\n",
      "\t- random (1.37%)\n",
      "\t- rate (1.37%)\n",
      "- topic 8 (9.85%)\n",
      "\t- respond (4.17%)\n",
      "\t- addit (4.17%)\n",
      "\t- import (4.17%)\n",
      "\t- influenc (2.78%)\n",
      "\t- includ (2.78%)\n",
      "\t- respect (2.78%)\n",
      "\t- human (2.78%)\n",
      "\t- reaction (2.78%)\n",
      "\t- apoptosi (2.78%)\n",
      "\t- discuss (2.78%)\n",
      "- topic 9 (9.71%)\n",
      "\t- result (5.63%)\n",
      "\t- respiratori (4.23%)\n",
      "\t- occur (4.23%)\n",
      "\t- recent (4.23%)\n",
      "\t- present (2.82%)\n",
      "\t- high (2.82%)\n",
      "\t- debat (2.82%)\n",
      "\t- associ (2.82%)\n",
      "\t- pro (2.82%)\n",
      "\t- due (2.82%)\n"
     ]
    }
   ],
   "source": [
    "get_word_assignment_info(topic_assignment, vocabulary, N_TOPIC, len(vocabulary))"
   ],
   "metadata": {
    "collapsed": false,
    "ExecuteTime": {
     "end_time": "2024-04-24T13:28:36.278191400Z",
     "start_time": "2024-04-24T13:28:36.245177200Z"
    }
   },
   "id": "6e34ee553922559c"
  },
  {
   "cell_type": "code",
   "execution_count": 11,
   "outputs": [],
   "source": [
    "# def get_document_wise_assignment(topic_assignment, n_topics):\n",
    "#     n_documents = len(topic_assignment)\n",
    "#     matrix_document_topic = np.zeros((n_documents, n_topics))\n",
    "#     for document, word_topic in topic_assignment.items():\n",
    "#         for _, topic in word_topic:\n",
    "#             matrix_document_topic[document, topic] += 1\n",
    "# \n",
    "#     return matrix_document_topic\n",
    "# \n",
    "# \n",
    "# def get_document_assignment_info(topic_assignment, doc_id, n_topics, n_documents=5):\n",
    "#     document_topic_matrix = get_document_wise_assignment(topic_assignment, n_topics)\n",
    "#     print('The distribution of topics to documents:')\n",
    "#     for d in range(n_documents):\n",
    "#         document_topic_vector = document_topic_matrix[d]\n",
    "#         top_topic_index = np.argsort(document_topic_vector)[::-1]\n",
    "#         topic_percentage = np.sort(document_topic_vector / document_topic_vector.sum())[::-1]\n",
    "#         string_topic = f'{topic_percentage[0]:.3f} * topic{top_topic_index[0]}'\n",
    "#         \n",
    "#         for topic, percentage in zip(top_topic_index[1:], topic_percentage[1:]):\n",
    "#             if percentage <= 0.0001:\n",
    "#                 break\n",
    "#             else:\n",
    "#                 string_topic += ' + '\n",
    "#                 string_topic += f'{percentage:.3f} * topic{topic}'\n",
    "#                 \n",
    "#         print(f'\\t- {doc_id[d]} : {string_topic}')"
   ],
   "metadata": {
    "collapsed": false,
    "ExecuteTime": {
     "end_time": "2024-04-24T13:28:36.278191400Z",
     "start_time": "2024-04-24T13:28:36.259686700Z"
    }
   },
   "id": "28d73fd2734fb03"
  },
  {
   "cell_type": "code",
   "execution_count": 12,
   "outputs": [
    {
     "name": "stdout",
     "output_type": "stream",
     "text": [
      "The distribution of topics to documents:\n",
      "\t- ug7v899j : 0.539 * topic7 + 0.337 * topic1 + 0.101 * topic9 + 0.011 * topic6 + 0.011 * topic2\n",
      "\t- 02tnwd4m : 0.409 * topic0 + 0.364 * topic9 + 0.136 * topic6 + 0.045 * topic5 + 0.015 * topic7 + 0.015 * topic3 + 0.015 * topic2\n",
      "\t- ejv2xln0 : 0.412 * topic2 + 0.299 * topic0 + 0.144 * topic8 + 0.124 * topic6 + 0.021 * topic3\n",
      "\t- 2b73a28n : 0.742 * topic0 + 0.226 * topic3 + 0.032 * topic6\n",
      "\t- 9785vg6d : 0.646 * topic2 + 0.200 * topic1 + 0.138 * topic8 + 0.015 * topic5\n"
     ]
    }
   ],
   "source": [
    "get_document_assignment_info(topic_assignment, doc_id, N_TOPIC)"
   ],
   "metadata": {
    "collapsed": false,
    "ExecuteTime": {
     "end_time": "2024-04-24T13:28:36.290181600Z",
     "start_time": "2024-04-24T13:28:36.275181Z"
    }
   },
   "id": "dfa5e70cb6e44f27"
  },
  {
   "cell_type": "code",
   "execution_count": 13,
   "outputs": [
    {
     "name": "stdout",
     "output_type": "stream",
     "text": [
      "<class 'numpy.ndarray'>\n"
     ]
    }
   ],
   "source": [
    "print(type(vocabulary))\n"
   ],
   "metadata": {
    "collapsed": false,
    "ExecuteTime": {
     "end_time": "2024-04-24T13:28:36.367166900Z",
     "start_time": "2024-04-24T13:28:36.293181900Z"
    }
   },
   "id": "fcab5af0aa497a21"
  },
  {
   "cell_type": "code",
   "execution_count": 14,
   "outputs": [],
   "source": [
    "cf_counter = compute_cf(dict_document)\n",
    "all_cf = 0\n",
    "for i in range(len(vocabulary)):\n",
    "    all_cf += cf_counter[i]"
   ],
   "metadata": {
    "collapsed": false,
    "ExecuteTime": {
     "end_time": "2024-04-24T13:28:36.370158900Z",
     "start_time": "2024-04-24T13:28:36.308181800Z"
    }
   },
   "id": "9f0c89cc5c1bd845"
  },
  {
   "cell_type": "code",
   "execution_count": 19,
   "outputs": [],
   "source": [
    "query = ['antigen', 'statist']\n",
    "int_query = list(map(lambda x: list(vocabulary).index(x), query))"
   ],
   "metadata": {
    "collapsed": false,
    "ExecuteTime": {
     "end_time": "2024-04-24T13:29:18.689474300Z",
     "start_time": "2024-04-24T13:29:18.677474300Z"
    }
   },
   "id": "9e93754a9bca1b24"
  },
  {
   "cell_type": "code",
   "execution_count": 21,
   "outputs": [],
   "source": [
    "scores = query_score(int_query, dict_document, topic_assignment, N_TOPIC, len(vocabulary), ALPHA, BETA)"
   ],
   "metadata": {
    "collapsed": false,
    "ExecuteTime": {
     "end_time": "2024-04-24T13:29:20.082345900Z",
     "start_time": "2024-04-24T13:29:20.061838Z"
    }
   },
   "id": "bcc8746894fc5af7"
  },
  {
   "cell_type": "code",
   "execution_count": 22,
   "outputs": [
    {
     "name": "stdout",
     "output_type": "stream",
     "text": [
      "[-13.918959621243076, -13.299507714777924, -13.287287685503077, -13.34673788573024, -13.91580678396462, -13.377620822022415, -13.752414647022555, -12.930456239224334, -13.574366427789565, -12.969297017619592]\n"
     ]
    }
   ],
   "source": [
    "print(scores)"
   ],
   "metadata": {
    "collapsed": false,
    "ExecuteTime": {
     "end_time": "2024-04-24T13:29:20.355625500Z",
     "start_time": "2024-04-24T13:29:20.323617100Z"
    }
   },
   "id": "f8d17247aa08b06f"
  },
  {
   "cell_type": "code",
   "execution_count": 18,
   "outputs": [],
   "source": [],
   "metadata": {
    "collapsed": false,
    "ExecuteTime": {
     "end_time": "2024-04-24T13:28:36.429630600Z",
     "start_time": "2024-04-24T13:28:36.386158600Z"
    }
   },
   "id": "a963f679414ecc74"
  }
 ],
 "metadata": {
  "kernelspec": {
   "display_name": "Python 3",
   "language": "python",
   "name": "python3"
  },
  "language_info": {
   "codemirror_mode": {
    "name": "ipython",
    "version": 2
   },
   "file_extension": ".py",
   "mimetype": "text/x-python",
   "name": "python",
   "nbconvert_exporter": "python",
   "pygments_lexer": "ipython2",
   "version": "2.7.6"
  }
 },
 "nbformat": 4,
 "nbformat_minor": 5
}
