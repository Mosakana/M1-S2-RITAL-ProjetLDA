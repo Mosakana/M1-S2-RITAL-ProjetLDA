{
 "cells": [
  {
   "cell_type": "code",
   "execution_count": 1,
   "outputs": [
    {
     "name": "stderr",
     "output_type": "stream",
     "text": [
      "PyTerrier 0.10.0 has loaded Terrier 5.9 (built by craigm on 2024-05-02 17:40) and terrier-helper 0.0.8\n",
      "\n"
     ]
    }
   ],
   "source": [
    "import ir_datasets\n",
    "import pyterrier as pt\n",
    "from tqdm import tqdm\n",
    "import lda\n",
    "if not pt.started():\n",
    "  pt.init(boot_packages=[\"com.github.terrierteam:terrier-prf:-SNAPSHOT\"])"
   ],
   "metadata": {
    "collapsed": false,
    "ExecuteTime": {
     "end_time": "2024-05-19T19:28:00.582857600Z",
     "start_time": "2024-05-19T19:27:59.182153800Z"
    }
   },
   "id": "cd609eeb844fdb6"
  },
  {
   "cell_type": "code",
   "execution_count": 2,
   "outputs": [],
   "source": [
    "covid = ir_datasets.load(\"cord19/trec-covid/round1\")"
   ],
   "metadata": {
    "collapsed": false,
    "ExecuteTime": {
     "end_time": "2024-05-19T19:28:00.637099700Z",
     "start_time": "2024-05-19T19:28:00.577848500Z"
    }
   },
   "id": "1fbf898db7e8be1d"
  },
  {
   "cell_type": "code",
   "execution_count": 3,
   "outputs": [],
   "source": [
    "with open('../data/queries_trec_covid', 'w') as file:\n",
    "    for queries in covid.queries_iter():\n",
    "        file.write(queries[0] + '\\n')\n",
    "        file.write(queries[1] + '\\n')\n",
    "        file.write(queries[2] + '\\n')\n",
    "        file.write(queries[3] + '\\n')"
   ],
   "metadata": {
    "collapsed": false,
    "ExecuteTime": {
     "end_time": "2024-05-19T19:28:00.650808800Z",
     "start_time": "2024-05-19T19:28:00.592857300Z"
    }
   },
   "id": "9877ee80c0c33f29"
  },
  {
   "cell_type": "code",
   "execution_count": 4,
   "outputs": [],
   "source": [
    "with open('../data/qrels_trec_covid', 'w') as file:\n",
    "    for qrel in covid.qrels_iter():\n",
    "        file.write(f'{qrel[0]}\\n{qrel[1]}\\n{qrel[2]}\\n')"
   ],
   "metadata": {
    "collapsed": false,
    "ExecuteTime": {
     "end_time": "2024-05-19T19:28:00.651809Z",
     "start_time": "2024-05-19T19:28:00.607858400Z"
    }
   },
   "id": "8dee9125a9912c7b"
  },
  {
   "cell_type": "code",
   "execution_count": 5,
   "outputs": [
    {
     "name": "stderr",
     "output_type": "stream",
     "text": [
      "51078it [00:00, 147836.08it/s]\n"
     ]
    }
   ],
   "source": [
    "with open('../data/docs_trec_covid', 'w', encoding='utf-8') as file:\n",
    "    for doc in tqdm(covid.docs_iter()):\n",
    "        file.write(f\"{doc[0]}\\n{doc[1]}\\n{doc[4]}\")\n",
    "        file.write('\\n----- end document -----\\n')"
   ],
   "metadata": {
    "collapsed": false,
    "ExecuteTime": {
     "end_time": "2024-05-19T19:28:01.010925600Z",
     "start_time": "2024-05-19T19:28:00.640135500Z"
    }
   },
   "id": "df092907830bc208"
  },
  {
   "cell_type": "code",
   "execution_count": 6,
   "outputs": [],
   "source": [
    "path_to_qrels = \"../data/qrels_trec_covid\"\n",
    "with open(path_to_qrels, 'r') as file:\n",
    "    qrels = file.read().split('\\n')[:-1]\n",
    "    \n",
    "docs_in_qrels = []\n",
    "    \n",
    "for i in range(0, len(qrels), 3):\n",
    "    query_id = int(qrels[i])\n",
    "    doc = qrels[i+1]\n",
    "    relevance = int(qrels[i+2])\n",
    "    if doc not in docs_in_qrels:\n",
    "        docs_in_qrels.append(doc)\n",
    "    "
   ],
   "metadata": {
    "collapsed": false,
    "ExecuteTime": {
     "end_time": "2024-05-19T19:28:01.181460900Z",
     "start_time": "2024-05-19T19:28:01.008925300Z"
    }
   },
   "id": "f783eccd4d48f544"
  },
  {
   "cell_type": "code",
   "execution_count": 14,
   "outputs": [],
   "source": [
    "vocabulary, vectors, doc_id = lda.load_docs_in_bow('../data/docs_trec_covid', docs_selected=docs_in_qrels)"
   ],
   "metadata": {
    "collapsed": false,
    "ExecuteTime": {
     "end_time": "2024-05-19T19:35:47.905691100Z",
     "start_time": "2024-05-19T19:35:47.884336900Z"
    }
   },
   "id": "c28f687b6c9e09cc"
  },
  {
   "cell_type": "code",
   "execution_count": 15,
   "outputs": [],
   "source": [
    "path_dict_doc = \"../data/dict_doc_trec_covid_selected\"\n",
    "dict_document = lda.process_vectors(vectors)\n"
   ],
   "metadata": {
    "collapsed": false,
    "ExecuteTime": {
     "end_time": "2024-05-19T19:35:49.051947800Z",
     "start_time": "2024-05-19T19:35:48.718735Z"
    }
   },
   "id": "8883bf86ba79e4f2"
  },
  {
   "cell_type": "code",
   "execution_count": null,
   "outputs": [],
   "source": [],
   "metadata": {
    "collapsed": false
   },
   "id": "76e360d67122e79c"
  }
 ],
 "metadata": {
  "kernelspec": {
   "display_name": "Python 3",
   "language": "python",
   "name": "python3"
  },
  "language_info": {
   "codemirror_mode": {
    "name": "ipython",
    "version": 2
   },
   "file_extension": ".py",
   "mimetype": "text/x-python",
   "name": "python",
   "nbconvert_exporter": "python",
   "pygments_lexer": "ipython2",
   "version": "2.7.6"
  }
 },
 "nbformat": 4,
 "nbformat_minor": 5
}
