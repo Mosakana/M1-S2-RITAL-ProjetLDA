{
 "cells": [
  {
   "cell_type": "code",
   "execution_count": 1,
   "outputs": [
    {
     "name": "stdout",
     "output_type": "stream",
     "text": [
      "terrier-assemblies 5.9 jar-with-dependencies not found, downloading to C:\\Users\\eeko\\.pyterrier...\n",
      "Done\n"
     ]
    },
    {
     "name": "stderr",
     "output_type": "stream",
     "text": [
      "PyTerrier 0.10.0 has loaded Terrier 5.9 (built by craigm on 2024-05-02 17:40) and terrier-helper 0.0.8\n",
      "\n"
     ]
    }
   ],
   "source": [
    "import ir_datasets\n",
    "import pyterrier as pt\n",
    "from tqdm import tqdm\n",
    "if not pt.started():\n",
    "  pt.init(boot_packages=[\"com.github.terrierteam:terrier-prf:-SNAPSHOT\"])"
   ],
   "metadata": {
    "collapsed": false,
    "ExecuteTime": {
     "end_time": "2024-05-10T14:40:02.585470700Z",
     "start_time": "2024-05-10T14:39:29.104583700Z"
    }
   },
   "id": "cd609eeb844fdb6"
  },
  {
   "cell_type": "code",
   "execution_count": 2,
   "outputs": [],
   "source": [
    "msmarco = ir_datasets.load('msmarco-document/trec-dl-2020')  "
   ],
   "metadata": {
    "collapsed": false,
    "ExecuteTime": {
     "end_time": "2024-04-19T11:40:51.027753600Z",
     "start_time": "2024-04-19T11:40:51.012734900Z"
    }
   },
   "id": "beddb80439d2e953"
  },
  {
   "cell_type": "code",
   "execution_count": 37,
   "outputs": [],
   "source": [
    "list_queries = []\n",
    "for record in msmarco.queries_iter():\n",
    "    list_queries.append(record[1])\n",
    "    "
   ],
   "metadata": {
    "collapsed": false,
    "ExecuteTime": {
     "end_time": "2024-04-19T09:08:52.860156500Z",
     "start_time": "2024-04-19T09:08:52.828504400Z"
    }
   },
   "id": "60fc1b9f9a770cf1"
  },
  {
   "cell_type": "code",
   "execution_count": 38,
   "outputs": [
    {
     "name": "stdout",
     "output_type": "stream",
     "text": [
      "200\n"
     ]
    }
   ],
   "source": [
    "print(len(list_queries))"
   ],
   "metadata": {
    "collapsed": false,
    "ExecuteTime": {
     "end_time": "2024-04-19T09:08:53.281281Z",
     "start_time": "2024-04-19T09:08:53.257131100Z"
    }
   },
   "id": "451dd5de20a0ba2f"
  },
  {
   "cell_type": "code",
   "execution_count": 5,
   "outputs": [],
   "source": [
    "with open('../data/queries_msmarco_trec_dl_2020', 'w') as file:\n",
    "    for record in msmarco.queries_iter():\n",
    "        file.write(record[1] + '\\n')"
   ],
   "metadata": {
    "collapsed": false,
    "ExecuteTime": {
     "end_time": "2024-04-19T10:28:41.739861800Z",
     "start_time": "2024-04-19T10:28:41.629163900Z"
    }
   },
   "id": "6e663c35778437c3"
  },
  {
   "cell_type": "code",
   "execution_count": 8,
   "outputs": [
    {
     "name": "stderr",
     "output_type": "stream",
     "text": [
      "3213835it [17:47, 3010.63it/s]\n"
     ]
    }
   ],
   "source": [
    "with open('../data/docs_msmarco_trec_dl_2020', 'w', encoding='utf-8') as file:\n",
    "    for doc in tqdm(msmarco.docs_iter()):\n",
    "        file.write(f\"{doc[0]}\\n{doc[3]}\")\n",
    "        file.write(\"----- end document -----\\n\")"
   ],
   "metadata": {
    "collapsed": false,
    "ExecuteTime": {
     "end_time": "2024-04-19T12:05:49.770920200Z",
     "start_time": "2024-04-19T11:48:02.243156700Z"
    }
   },
   "id": "909e878c7c003d62"
  },
  {
   "cell_type": "code",
   "execution_count": 2,
   "outputs": [],
   "source": [
    "covid = ir_datasets.load(\"cord19/trec-covid\")"
   ],
   "metadata": {
    "collapsed": false,
    "ExecuteTime": {
     "end_time": "2024-05-10T14:40:10.637407800Z",
     "start_time": "2024-05-10T14:40:10.624159300Z"
    }
   },
   "id": "1fbf898db7e8be1d"
  },
  {
   "cell_type": "code",
   "execution_count": 8,
   "outputs": [],
   "source": [
    "with open('../data/queries_trec_covid', 'w') as file:\n",
    "    for queries in covid.queries_iter():\n",
    "        file.write(queries[0] + '\\n')\n",
    "        file.write(queries[1] + '\\n')\n",
    "        file.write(queries[2] + '\\n')\n",
    "        file.write(queries[3] + '\\n')"
   ],
   "metadata": {
    "collapsed": false,
    "ExecuteTime": {
     "end_time": "2024-05-10T15:05:19.350397400Z",
     "start_time": "2024-05-10T15:05:19.334748900Z"
    }
   },
   "id": "9877ee80c0c33f29"
  },
  {
   "cell_type": "code",
   "execution_count": 7,
   "outputs": [],
   "source": [
    "with open('../data/qrels_trec_covid', 'w') as file:\n",
    "    for qrel in covid.qrels_iter():\n",
    "        file.write(f'{qrel[0]}\\n{qrel[1]}\\n{qrel[2]}\\n')"
   ],
   "metadata": {
    "collapsed": false,
    "ExecuteTime": {
     "end_time": "2024-05-10T14:55:05.019977200Z",
     "start_time": "2024-05-10T14:55:04.874109Z"
    }
   },
   "id": "8dee9125a9912c7b"
  },
  {
   "cell_type": "code",
   "execution_count": 32,
   "outputs": [
    {
     "name": "stderr",
     "output_type": "stream",
     "text": [
      "192509it [00:01, 156694.26it/s]\n"
     ]
    }
   ],
   "source": [
    "with open('../data/docs_trec_covid', 'w', encoding='utf-8') as file:\n",
    "    for doc in tqdm(covid.docs_iter()):\n",
    "        file.write(f\"{doc[0]}\\n{doc[1]}\\n{doc[4]}\")\n",
    "        file.write('\\n----- end query -----\\n')"
   ],
   "metadata": {
    "collapsed": false,
    "ExecuteTime": {
     "end_time": "2024-04-19T12:53:40.970342300Z",
     "start_time": "2024-04-19T12:53:39.705362200Z"
    }
   },
   "id": "df092907830bc208"
  },
  {
   "cell_type": "code",
   "execution_count": 6,
   "outputs": [],
   "source": [
    "dataset = pt.datasets.get_dataset('irds:cord19/trec-covid')"
   ],
   "metadata": {
    "collapsed": false,
    "ExecuteTime": {
     "end_time": "2024-04-19T08:17:18.672395400Z",
     "start_time": "2024-04-19T08:17:18.656869300Z"
    }
   },
   "id": "57704085c158a742"
  },
  {
   "cell_type": "code",
   "execution_count": 7,
   "outputs": [
    {
     "name": "stderr",
     "output_type": "stream",
     "text": [
      "cord19/trec-covid documents:   0%|          | 0/192509 [00:00<?, ?it/s]"
     ]
    }
   ],
   "source": [
    "\n",
    "record = dataset.get_corpus_iter()"
   ],
   "metadata": {
    "collapsed": false,
    "ExecuteTime": {
     "end_time": "2024-04-19T08:17:18.688102100Z",
     "start_time": "2024-04-19T08:17:18.672395400Z"
    }
   },
   "id": "c0ec7e8aab68af29"
  },
  {
   "cell_type": "code",
   "execution_count": 8,
   "outputs": [
    {
     "name": "stderr",
     "output_type": "stream",
     "text": [
      "cord19/trec-covid documents: 100%|██████████| 192509/192509 [00:00<00:00, 214883.89it/s]\n"
     ]
    }
   ],
   "source": [
    "test = []\n",
    "for doc in record:\n",
    "    test.append(doc)"
   ],
   "metadata": {
    "collapsed": false,
    "ExecuteTime": {
     "end_time": "2024-04-19T08:17:19.583813100Z",
     "start_time": "2024-04-19T08:17:18.688102100Z"
    }
   },
   "id": "ba44fd4e0dc1f38f"
  },
  {
   "cell_type": "code",
   "execution_count": 9,
   "outputs": [],
   "source": [
    "def generate_test_data():\n",
    "    doc1 = ''"
   ],
   "metadata": {
    "collapsed": false,
    "ExecuteTime": {
     "end_time": "2024-04-19T08:17:19.615500400Z",
     "start_time": "2024-04-19T08:17:19.599855700Z"
    }
   },
   "id": "7855d9c25d27388f"
  }
 ],
 "metadata": {
  "kernelspec": {
   "display_name": "Python 3",
   "language": "python",
   "name": "python3"
  },
  "language_info": {
   "codemirror_mode": {
    "name": "ipython",
    "version": 2
   },
   "file_extension": ".py",
   "mimetype": "text/x-python",
   "name": "python",
   "nbconvert_exporter": "python",
   "pygments_lexer": "ipython2",
   "version": "2.7.6"
  }
 },
 "nbformat": 4,
 "nbformat_minor": 5
}
