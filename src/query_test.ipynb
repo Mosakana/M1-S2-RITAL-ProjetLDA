{
 "cells": [
  {
   "cell_type": "code",
   "execution_count": 1,
   "id": "initial_id",
   "metadata": {
    "collapsed": true,
    "ExecuteTime": {
     "end_time": "2024-05-10T15:45:34.640042400Z",
     "start_time": "2024-05-10T15:45:33.947219800Z"
    }
   },
   "outputs": [],
   "source": [
    "import pickle as pkl\n",
    "from lda import load_docs_in_bow, process_vectors, compute_word_topic_matrix, compute_document_topic_matrix\n",
    "from query_ranking import queries_string2int, get_queries, query_score"
   ]
  },
  {
   "cell_type": "code",
   "execution_count": 8,
   "outputs": [],
   "source": [
    "N_TOPIC = 100\n",
    "ALPHA = 50 / N_TOPIC\n",
    "BETA = 0.01"
   ],
   "metadata": {
    "collapsed": false,
    "ExecuteTime": {
     "end_time": "2024-05-10T15:46:16.350850300Z",
     "start_time": "2024-05-10T15:46:16.350850300Z"
    }
   },
   "id": "f02ce485886e0d6f"
  },
  {
   "cell_type": "code",
   "execution_count": 9,
   "outputs": [],
   "source": [
    "path_to_doc = \"../data/docs_trec_covid\"\n",
    "\n",
    "vocabulary, vectors, doc_id = load_docs_in_bow(path_to_doc, n_doc=1000)\n",
    "\n",
    "dict_document = process_vectors(vectors)"
   ],
   "metadata": {
    "collapsed": false,
    "ExecuteTime": {
     "end_time": "2024-05-10T15:46:16.652694900Z",
     "start_time": "2024-05-10T15:46:16.562336500Z"
    }
   },
   "id": "688820935d4143de"
  },
  {
   "cell_type": "code",
   "execution_count": 10,
   "outputs": [],
   "source": [
    "path_to_learned_data = f'../data/learning_data_covid_{N_TOPIC}_topics.pkl'\n",
    "\n",
    "with open(path_to_learned_data, 'rb') as file:\n",
    "    topic_assignment, Mwt, Mdt = pkl.load(file)"
   ],
   "metadata": {
    "collapsed": false,
    "ExecuteTime": {
     "end_time": "2024-05-10T15:46:16.826174600Z",
     "start_time": "2024-05-10T15:46:16.750171400Z"
    }
   },
   "id": "3684a70858636d29"
  },
  {
   "cell_type": "code",
   "execution_count": 12,
   "outputs": [
    {
     "name": "stdout",
     "output_type": "stream",
     "text": [
      "calculate score of 0 query\n",
      "calculate score of 1 query\n",
      "calculate score of 2 query\n",
      "calculate score of 3 query\n",
      "calculate score of 4 query\n",
      "calculate score of 5 query\n",
      "calculate score of 6 query\n",
      "calculate score of 7 query\n",
      "calculate score of 8 query\n",
      "calculate score of 9 query\n",
      "calculate score of 10 query\n",
      "calculate score of 11 query\n",
      "calculate score of 12 query\n",
      "calculate score of 13 query\n",
      "calculate score of 14 query\n",
      "calculate score of 15 query\n",
      "calculate score of 16 query\n",
      "calculate score of 17 query\n",
      "calculate score of 18 query\n",
      "calculate score of 19 query\n",
      "calculate score of 20 query\n",
      "calculate score of 21 query\n",
      "calculate score of 22 query\n",
      "calculate score of 23 query\n",
      "calculate score of 24 query\n",
      "calculate score of 25 query\n",
      "calculate score of 26 query\n",
      "calculate score of 27 query\n",
      "calculate score of 28 query\n",
      "calculate score of 29 query\n",
      "calculate score of 30 query\n",
      "calculate score of 31 query\n",
      "calculate score of 32 query\n",
      "calculate score of 33 query\n",
      "calculate score of 34 query\n",
      "calculate score of 35 query\n",
      "calculate score of 36 query\n",
      "calculate score of 37 query\n",
      "calculate score of 38 query\n",
      "calculate score of 39 query\n",
      "calculate score of 40 query\n",
      "calculate score of 41 query\n",
      "calculate score of 42 query\n",
      "calculate score of 43 query\n",
      "calculate score of 44 query\n",
      "calculate score of 45 query\n",
      "calculate score of 46 query\n",
      "calculate score of 47 query\n",
      "calculate score of 48 query\n",
      "calculate score of 49 query\n"
     ]
    }
   ],
   "source": [
    "path = '../data/qrels_trec_covid'\n",
    "path_qurey = '../data/queries_trec_covid'\n",
    "\n",
    "int_queries = queries_string2int(get_queries(path_qurey), vocabulary)\n",
    "\n",
    "queries_scores = []\n",
    "\n",
    "\n",
    "for i, int_query in enumerate(int_queries):\n",
    "    print(f'calculate score of {i} query')\n",
    "    queries_scores.append(query_score(int_query, dict_document, Mwt, Mdt, N_TOPIC, len(vocabulary), ALPHA, BETA))"
   ],
   "metadata": {
    "collapsed": false,
    "ExecuteTime": {
     "end_time": "2024-05-10T16:21:00.095949Z",
     "start_time": "2024-05-10T15:51:17.113910700Z"
    }
   },
   "id": "8cc227979f921b3f"
  },
  {
   "cell_type": "code",
   "execution_count": 9,
   "outputs": [],
   "source": [
    "# import logging\n",
    "# for n_topic in range(100, 601, 100):\n",
    "#     logging.debug(f'editing {n_topic} topics file ...')\n",
    "#     path_to_learned_data = f'../data/learning_data_covid_{n_topic}_topics.pkl'\n",
    "#     saved_path = f'../data/learning_data_covid_{n_topic}_topics_edited.pkl'\n",
    "#     \n",
    "#     with open(path_to_learned_data, 'rb') as file:\n",
    "#         topic_assignment = pkl.load(file)\n",
    "#         \n",
    "#     Mwt = compute_word_topic_matrix(topic_assignment, n_topic, len(vocabulary))\n",
    "#     Mdt = compute_document_topic_matrix(topic_assignment, n_topic)\n",
    "#     \n",
    "#     with open(saved_path, 'wb') as file:\n",
    "#         pkl.dump((topic_assignment, Mwt, Mdt), file)"
   ],
   "metadata": {
    "collapsed": false,
    "ExecuteTime": {
     "end_time": "2024-05-10T15:40:06.819210Z",
     "start_time": "2024-05-10T15:40:04.675116300Z"
    }
   },
   "id": "90be3fb687160ec0"
  },
  {
   "cell_type": "code",
   "execution_count": 17,
   "outputs": [],
   "source": [
    "with open('../data/queries_scores_100_topics.pkl', 'wb') as file:\n",
    "    pkl.dump(queries_scores, file)"
   ],
   "metadata": {
    "collapsed": false,
    "ExecuteTime": {
     "end_time": "2024-05-10T16:25:02.234704700Z",
     "start_time": "2024-05-10T16:25:02.152397Z"
    }
   },
   "id": "6054b42ca042947"
  },
  {
   "cell_type": "code",
   "execution_count": null,
   "outputs": [],
   "source": [],
   "metadata": {
    "collapsed": false
   },
   "id": "bccce54886e3ee2f"
  }
 ],
 "metadata": {
  "kernelspec": {
   "display_name": "Python 3",
   "language": "python",
   "name": "python3"
  },
  "language_info": {
   "codemirror_mode": {
    "name": "ipython",
    "version": 2
   },
   "file_extension": ".py",
   "mimetype": "text/x-python",
   "name": "python",
   "nbconvert_exporter": "python",
   "pygments_lexer": "ipython2",
   "version": "2.7.6"
  }
 },
 "nbformat": 4,
 "nbformat_minor": 5
}
