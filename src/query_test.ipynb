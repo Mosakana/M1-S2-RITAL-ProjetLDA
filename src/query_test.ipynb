{
 "cells": [
  {
   "cell_type": "code",
   "execution_count": 16,
   "id": "initial_id",
   "metadata": {
    "collapsed": true,
    "ExecuteTime": {
     "end_time": "2024-05-21T09:01:03.846856400Z",
     "start_time": "2024-05-21T09:01:03.801493200Z"
    }
   },
   "outputs": [],
   "source": [
    "import pickle as pkl\n",
    "from lda import load_docs_in_bow, process_vectors, compute_word_topic_matrix, compute_document_topic_matrix\n",
    "from query_ranking import queries_string2int, get_queries, query_score\n",
    "import numpy as np\n",
    "from sklearn.metrics import average_precision_score"
   ]
  },
  {
   "cell_type": "code",
   "execution_count": 17,
   "outputs": [],
   "source": [
    "N_TOPIC = 100\n",
    "ALPHA = 50 / N_TOPIC\n",
    "BETA = 0.01"
   ],
   "metadata": {
    "collapsed": false,
    "ExecuteTime": {
     "end_time": "2024-05-21T09:01:03.846856400Z",
     "start_time": "2024-05-21T09:01:03.819520900Z"
    }
   },
   "id": "f02ce485886e0d6f"
  },
  {
   "cell_type": "code",
   "execution_count": 18,
   "outputs": [],
   "source": [
    "path_to_doc = \"../data/docs_trec_covid_selected_docs\"\n",
    "\n",
    "vocabulary, vectors, doc_id = load_docs_in_bow(path_to_doc)\n",
    "\n",
    "dict_document = process_vectors(vectors)"
   ],
   "metadata": {
    "collapsed": false,
    "ExecuteTime": {
     "end_time": "2024-05-21T09:01:04.188786800Z",
     "start_time": "2024-05-21T09:01:03.835059100Z"
    }
   },
   "id": "688820935d4143de"
  },
  {
   "cell_type": "code",
   "execution_count": 19,
   "outputs": [],
   "source": [
    "path_to_learned_data = f'../data/learning_data_covid_{N_TOPIC}_topics.pkl'\n",
    "\n",
    "with open(path_to_learned_data, 'rb') as file:\n",
    "    topic_assignment, Mwt, Mdt = pkl.load(file)"
   ],
   "metadata": {
    "collapsed": false,
    "ExecuteTime": {
     "end_time": "2024-05-21T09:01:04.626162900Z",
     "start_time": "2024-05-21T09:01:04.190787100Z"
    }
   },
   "id": "3684a70858636d29"
  },
  {
   "cell_type": "code",
   "execution_count": 20,
   "outputs": [
    {
     "name": "stdout",
     "output_type": "stream",
     "text": [
      "1389\n",
      "1805\n",
      "3219\n"
     ]
    }
   ],
   "source": [
    "for doc, word_topic in topic_assignment.items():\n",
    "    if len(word_topic) == 0:\n",
    "        print(doc)"
   ],
   "metadata": {
    "collapsed": false,
    "ExecuteTime": {
     "end_time": "2024-05-21T09:01:04.661868100Z",
     "start_time": "2024-05-21T09:01:04.628260800Z"
    }
   },
   "id": "7d6031397e5cd187"
  },
  {
   "cell_type": "code",
   "execution_count": 21,
   "outputs": [
    {
     "name": "stdout",
     "output_type": "stream",
     "text": [
      "calculate score of 0 query\n"
     ]
    },
    {
     "ename": "KeyboardInterrupt",
     "evalue": "",
     "output_type": "error",
     "traceback": [
      "\u001B[1;31m---------------------------------------------------------------------------\u001B[0m",
      "\u001B[1;31mKeyboardInterrupt\u001B[0m                         Traceback (most recent call last)",
      "Cell \u001B[1;32mIn[21], line 10\u001B[0m\n\u001B[0;32m      8\u001B[0m \u001B[38;5;28;01mfor\u001B[39;00m i, int_query \u001B[38;5;129;01min\u001B[39;00m \u001B[38;5;28menumerate\u001B[39m(int_queries):\n\u001B[0;32m      9\u001B[0m     \u001B[38;5;28mprint\u001B[39m(\u001B[38;5;124mf\u001B[39m\u001B[38;5;124m'\u001B[39m\u001B[38;5;124mcalculate score of \u001B[39m\u001B[38;5;132;01m{\u001B[39;00mi\u001B[38;5;132;01m}\u001B[39;00m\u001B[38;5;124m query\u001B[39m\u001B[38;5;124m'\u001B[39m)\n\u001B[1;32m---> 10\u001B[0m     queries_scores\u001B[38;5;241m.\u001B[39mappend(\u001B[43mquery_score\u001B[49m\u001B[43m(\u001B[49m\u001B[43mint_query\u001B[49m\u001B[43m,\u001B[49m\u001B[43m \u001B[49m\u001B[43mdict_document\u001B[49m\u001B[43m,\u001B[49m\u001B[43m \u001B[49m\u001B[43mMwt\u001B[49m\u001B[43m,\u001B[49m\u001B[43m \u001B[49m\u001B[43mMdt\u001B[49m\u001B[43m,\u001B[49m\u001B[43m \u001B[49m\u001B[43mN_TOPIC\u001B[49m\u001B[43m,\u001B[49m\u001B[43m \u001B[49m\u001B[38;5;28;43mlen\u001B[39;49m\u001B[43m(\u001B[49m\u001B[43mvocabulary\u001B[49m\u001B[43m)\u001B[49m\u001B[43m,\u001B[49m\u001B[43m \u001B[49m\u001B[43mALPHA\u001B[49m\u001B[43m,\u001B[49m\u001B[43m \u001B[49m\u001B[43mBETA\u001B[49m\u001B[43m)\u001B[49m)\n",
      "File \u001B[1;32mD:\\SchoolWork\\M1S2\\RITAL\\M1-S2-RITAL-ProjetLDA\\src\\query_ranking.py:65\u001B[0m, in \u001B[0;36mquery_score\u001B[1;34m(query, dict_document, Mwt, Mdt, n_topics, n_vocabularies, alpha, beta)\u001B[0m\n\u001B[0;32m     63\u001B[0m score \u001B[38;5;241m=\u001B[39m \u001B[38;5;241m0\u001B[39m\n\u001B[0;32m     64\u001B[0m \u001B[38;5;28;01mfor\u001B[39;00m term \u001B[38;5;129;01min\u001B[39;00m query:\n\u001B[1;32m---> 65\u001B[0m     distribution \u001B[38;5;241m=\u001B[39m \u001B[43mget_distribution\u001B[49m\u001B[43m(\u001B[49m\u001B[43mterm\u001B[49m\u001B[43m,\u001B[49m\u001B[43m \u001B[49m\u001B[43mdoc\u001B[49m\u001B[43m,\u001B[49m\u001B[43m \u001B[49m\u001B[43mMwt\u001B[49m\u001B[43m,\u001B[49m\u001B[43m \u001B[49m\u001B[43mMdt\u001B[49m\u001B[43m,\u001B[49m\u001B[43m \u001B[49m\u001B[43malpha\u001B[49m\u001B[43m,\u001B[49m\u001B[43m \u001B[49m\u001B[43mbeta\u001B[49m\u001B[43m,\u001B[49m\u001B[43m \u001B[49m\u001B[43mn_topics\u001B[49m\u001B[43m,\u001B[49m\u001B[43m \u001B[49m\u001B[43mn_vocabularies\u001B[49m\u001B[43m)\u001B[49m\n\u001B[0;32m     66\u001B[0m     score \u001B[38;5;241m+\u001B[39m\u001B[38;5;241m=\u001B[39m np\u001B[38;5;241m.\u001B[39mlog(get_term_probability(term, dict_document[doc], cf_counter[term], all_cf, distribution, \u001B[38;5;241m1000\u001B[39m, \u001B[38;5;241m0.7\u001B[39m))\n\u001B[0;32m     68\u001B[0m scores\u001B[38;5;241m.\u001B[39mappend(score)\n",
      "File \u001B[1;32mD:\\SchoolWork\\M1S2\\RITAL\\M1-S2-RITAL-ProjetLDA\\src\\lda.py:151\u001B[0m, in \u001B[0;36mget_distribution\u001B[1;34m(term, document, Mwt, Mdt, alpha, beta, n_topics, n_vocabularies)\u001B[0m\n\u001B[0;32m    149\u001B[0m distribution \u001B[38;5;241m=\u001B[39m []\n\u001B[0;32m    150\u001B[0m \u001B[38;5;28;01mfor\u001B[39;00m i \u001B[38;5;129;01min\u001B[39;00m \u001B[38;5;28mrange\u001B[39m(n_topics):\n\u001B[1;32m--> 151\u001B[0m     Pwt \u001B[38;5;241m=\u001B[39m (Mwt[term, i] \u001B[38;5;241m+\u001B[39m beta) \u001B[38;5;241m/\u001B[39m (\u001B[43mnp\u001B[49m\u001B[38;5;241;43m.\u001B[39;49m\u001B[43msum\u001B[49m\u001B[43m(\u001B[49m\u001B[43mMwt\u001B[49m\u001B[43m[\u001B[49m\u001B[43m:\u001B[49m\u001B[43m,\u001B[49m\u001B[43m \u001B[49m\u001B[43mi\u001B[49m\u001B[43m]\u001B[49m\u001B[43m)\u001B[49m \u001B[38;5;241m+\u001B[39m n_vocabularies \u001B[38;5;241m*\u001B[39m beta)\n\u001B[0;32m    152\u001B[0m     Pdt \u001B[38;5;241m=\u001B[39m (Mdt[document, i] \u001B[38;5;241m+\u001B[39m alpha) \u001B[38;5;241m/\u001B[39m (np\u001B[38;5;241m.\u001B[39msum(Mdt[:, i]) \u001B[38;5;241m+\u001B[39m n_topics \u001B[38;5;241m*\u001B[39m alpha)\n\u001B[0;32m    153\u001B[0m     distribution\u001B[38;5;241m.\u001B[39mappend(Pwt \u001B[38;5;241m*\u001B[39m Pdt)\n",
      "File \u001B[1;32mD:\\anaconda3\\envs\\master\\lib\\site-packages\\numpy\\core\\fromnumeric.py:2313\u001B[0m, in \u001B[0;36msum\u001B[1;34m(a, axis, dtype, out, keepdims, initial, where)\u001B[0m\n\u001B[0;32m   2310\u001B[0m         \u001B[38;5;28;01mreturn\u001B[39;00m out\n\u001B[0;32m   2311\u001B[0m     \u001B[38;5;28;01mreturn\u001B[39;00m res\n\u001B[1;32m-> 2313\u001B[0m \u001B[38;5;28;01mreturn\u001B[39;00m \u001B[43m_wrapreduction\u001B[49m\u001B[43m(\u001B[49m\u001B[43ma\u001B[49m\u001B[43m,\u001B[49m\u001B[43m \u001B[49m\u001B[43mnp\u001B[49m\u001B[38;5;241;43m.\u001B[39;49m\u001B[43madd\u001B[49m\u001B[43m,\u001B[49m\u001B[43m \u001B[49m\u001B[38;5;124;43m'\u001B[39;49m\u001B[38;5;124;43msum\u001B[39;49m\u001B[38;5;124;43m'\u001B[39;49m\u001B[43m,\u001B[49m\u001B[43m \u001B[49m\u001B[43maxis\u001B[49m\u001B[43m,\u001B[49m\u001B[43m \u001B[49m\u001B[43mdtype\u001B[49m\u001B[43m,\u001B[49m\u001B[43m \u001B[49m\u001B[43mout\u001B[49m\u001B[43m,\u001B[49m\u001B[43m \u001B[49m\u001B[43mkeepdims\u001B[49m\u001B[38;5;241;43m=\u001B[39;49m\u001B[43mkeepdims\u001B[49m\u001B[43m,\u001B[49m\n\u001B[0;32m   2314\u001B[0m \u001B[43m                      \u001B[49m\u001B[43minitial\u001B[49m\u001B[38;5;241;43m=\u001B[39;49m\u001B[43minitial\u001B[49m\u001B[43m,\u001B[49m\u001B[43m \u001B[49m\u001B[43mwhere\u001B[49m\u001B[38;5;241;43m=\u001B[39;49m\u001B[43mwhere\u001B[49m\u001B[43m)\u001B[49m\n",
      "File \u001B[1;32mD:\\anaconda3\\envs\\master\\lib\\site-packages\\numpy\\core\\fromnumeric.py:88\u001B[0m, in \u001B[0;36m_wrapreduction\u001B[1;34m(obj, ufunc, method, axis, dtype, out, **kwargs)\u001B[0m\n\u001B[0;32m     85\u001B[0m         \u001B[38;5;28;01melse\u001B[39;00m:\n\u001B[0;32m     86\u001B[0m             \u001B[38;5;28;01mreturn\u001B[39;00m reduction(axis\u001B[38;5;241m=\u001B[39maxis, out\u001B[38;5;241m=\u001B[39mout, \u001B[38;5;241m*\u001B[39m\u001B[38;5;241m*\u001B[39mpasskwargs)\n\u001B[1;32m---> 88\u001B[0m \u001B[38;5;28;01mreturn\u001B[39;00m ufunc\u001B[38;5;241m.\u001B[39mreduce(obj, axis, dtype, out, \u001B[38;5;241m*\u001B[39m\u001B[38;5;241m*\u001B[39mpasskwargs)\n",
      "\u001B[1;31mKeyboardInterrupt\u001B[0m: "
     ]
    }
   ],
   "source": [
    "path_qurey = '../data/queries_trec_covid'\n",
    "\n",
    "int_queries = queries_string2int(get_queries(path_qurey), vocabulary)\n",
    "\n",
    "queries_scores = []\n",
    "\n",
    "\n",
    "for i, int_query in enumerate(int_queries):\n",
    "    print(f'calculate score of {i} query')\n",
    "    queries_scores.append(query_score(int_query, dict_document, Mwt, Mdt, N_TOPIC, len(vocabulary), ALPHA, BETA))"
   ],
   "metadata": {
    "collapsed": false,
    "ExecuteTime": {
     "end_time": "2024-05-21T09:01:37.055603Z",
     "start_time": "2024-05-21T09:01:04.645301700Z"
    }
   },
   "id": "8cc227979f921b3f"
  },
  {
   "cell_type": "code",
   "execution_count": null,
   "outputs": [],
   "source": [
    "# import logging\n",
    "# for n_topic in range(100, 601, 100):\n",
    "#     logging.debug(f'editing {n_topic} topics file ...')\n",
    "#     path_to_learned_data = f'../data/learning_data_covid_{n_topic}_topics.pkl'\n",
    "#     saved_path = f'../data/learning_data_covid_{n_topic}_topics_edited.pkl'\n",
    "#     \n",
    "#     with open(path_to_learned_data, 'rb') as file:\n",
    "#         topic_assignment = pkl.load(file)\n",
    "#         \n",
    "#     Mwt = compute_word_topic_matrix(topic_assignment, n_topic, len(vocabulary))\n",
    "#     Mdt = compute_document_topic_matrix(topic_assignment, n_topic)\n",
    "#     \n",
    "#     with open(saved_path, 'wb') as file:\n",
    "#         pkl.dump((topic_assignment, Mwt, Mdt), file)"
   ],
   "metadata": {
    "collapsed": false,
    "ExecuteTime": {
     "end_time": "2024-05-21T09:01:37.082756200Z",
     "start_time": "2024-05-21T09:01:37.060201800Z"
    }
   },
   "id": "90be3fb687160ec0"
  },
  {
   "cell_type": "code",
   "execution_count": null,
   "outputs": [],
   "source": [
    "with open('../data/queries_scores_100_topics.pkl', 'wb') as file:\n",
    "    pkl.dump(queries_scores, file)"
   ],
   "metadata": {
    "collapsed": false,
    "ExecuteTime": {
     "start_time": "2024-05-21T09:01:37.062201600Z"
    }
   },
   "id": "6054b42ca042947"
  },
  {
   "cell_type": "code",
   "execution_count": null,
   "outputs": [],
   "source": [
    "path_to_qrels = \"../data/qrels_trec_covid\"\n",
    "with open(path_to_qrels, 'r') as file:\n",
    "    qrels = file.read().split('\\n')[:-1]\n",
    "\n",
    "dict_qrels = {}\n",
    "for i in range(0, len(qrels), 3):\n",
    "    query_id = int(qrels[i])\n",
    "    doc = qrels[i+1]\n",
    "    relevance = int(qrels[i+2])\n",
    "    if doc in doc_id:\n",
    "        int_doc = doc_id.index(doc)\n",
    "        if int_doc in dict_qrels:\n",
    "            dict_qrels[int_doc][query_id] = relevance\n",
    "        else:\n",
    "            dict_qrels[int_doc] = {query_id : relevance}"
   ],
   "metadata": {
    "collapsed": false,
    "ExecuteTime": {
     "start_time": "2024-05-21T09:01:37.062201600Z"
    }
   },
   "id": "2320f58eea9ad0f4"
  },
  {
   "cell_type": "code",
   "execution_count": null,
   "outputs": [],
   "source": [
    "with open('../data/queries_scores_100_topics.pkl', 'rb') as file:\n",
    "    queries_scores_100_topics = pkl.load(file)"
   ],
   "metadata": {
    "collapsed": false,
    "ExecuteTime": {
     "start_time": "2024-05-21T09:01:37.065210100Z"
    }
   },
   "id": "bccce54886e3ee2f"
  },
  {
   "cell_type": "code",
   "execution_count": 22,
   "outputs": [
    {
     "ename": "KeyboardInterrupt",
     "evalue": "",
     "output_type": "error",
     "traceback": [
      "\u001B[1;31m---------------------------------------------------------------------------\u001B[0m",
      "\u001B[1;31mKeyboardInterrupt\u001B[0m                         Traceback (most recent call last)",
      "Cell \u001B[1;32mIn[22], line 6\u001B[0m\n\u001B[0;32m      4\u001B[0m y_pred \u001B[38;5;241m=\u001B[39m []\n\u001B[0;32m      5\u001B[0m score \u001B[38;5;241m=\u001B[39m \u001B[38;5;241m2\u001B[39m\n\u001B[1;32m----> 6\u001B[0m \u001B[38;5;28;01mfor\u001B[39;00m doc \u001B[38;5;129;01min\u001B[39;00m top10:\n\u001B[0;32m      7\u001B[0m     \u001B[38;5;28;01mif\u001B[39;00m doc \u001B[38;5;129;01min\u001B[39;00m dict_qrels\u001B[38;5;241m.\u001B[39mkeys():\n\u001B[0;32m      8\u001B[0m         dict_relevance_doc \u001B[38;5;241m=\u001B[39m dict_qrels[doc]\n",
      "Cell \u001B[1;32mIn[22], line 6\u001B[0m\n\u001B[0;32m      4\u001B[0m y_pred \u001B[38;5;241m=\u001B[39m []\n\u001B[0;32m      5\u001B[0m score \u001B[38;5;241m=\u001B[39m \u001B[38;5;241m2\u001B[39m\n\u001B[1;32m----> 6\u001B[0m \u001B[38;5;28;01mfor\u001B[39;00m doc \u001B[38;5;129;01min\u001B[39;00m top10:\n\u001B[0;32m      7\u001B[0m     \u001B[38;5;28;01mif\u001B[39;00m doc \u001B[38;5;129;01min\u001B[39;00m dict_qrels\u001B[38;5;241m.\u001B[39mkeys():\n\u001B[0;32m      8\u001B[0m         dict_relevance_doc \u001B[38;5;241m=\u001B[39m dict_qrels[doc]\n",
      "File \u001B[1;32m_pydevd_bundle\\pydevd_cython_win32_310_64.pyx:1179\u001B[0m, in \u001B[0;36m_pydevd_bundle.pydevd_cython_win32_310_64.SafeCallWrapper.__call__\u001B[1;34m()\u001B[0m\n",
      "File \u001B[1;32m_pydevd_bundle\\pydevd_cython_win32_310_64.pyx:620\u001B[0m, in \u001B[0;36m_pydevd_bundle.pydevd_cython_win32_310_64.PyDBFrame.trace_dispatch\u001B[1;34m()\u001B[0m\n",
      "File \u001B[1;32m_pydevd_bundle\\pydevd_cython_win32_310_64.pyx:1095\u001B[0m, in \u001B[0;36m_pydevd_bundle.pydevd_cython_win32_310_64.PyDBFrame.trace_dispatch\u001B[1;34m()\u001B[0m\n",
      "File \u001B[1;32m_pydevd_bundle\\pydevd_cython_win32_310_64.pyx:1053\u001B[0m, in \u001B[0;36m_pydevd_bundle.pydevd_cython_win32_310_64.PyDBFrame.trace_dispatch\u001B[1;34m()\u001B[0m\n",
      "File \u001B[1;32mD:\\Program Files\\JetBrains\\PyCharm Professional\\plugins\\python\\helpers-pro\\jupyter_debug\\pydev_jupyter_plugin.py:169\u001B[0m, in \u001B[0;36mstop\u001B[1;34m(plugin, pydb, frame, event, args, stop_info, arg, step_cmd)\u001B[0m\n\u001B[0;32m    167\u001B[0m     frame \u001B[38;5;241m=\u001B[39m suspend_jupyter(main_debugger, thread, frame, step_cmd)\n\u001B[0;32m    168\u001B[0m     \u001B[38;5;28;01mif\u001B[39;00m frame:\n\u001B[1;32m--> 169\u001B[0m         \u001B[43mmain_debugger\u001B[49m\u001B[38;5;241;43m.\u001B[39;49m\u001B[43mdo_wait_suspend\u001B[49m\u001B[43m(\u001B[49m\u001B[43mthread\u001B[49m\u001B[43m,\u001B[49m\u001B[43m \u001B[49m\u001B[43mframe\u001B[49m\u001B[43m,\u001B[49m\u001B[43m \u001B[49m\u001B[43mevent\u001B[49m\u001B[43m,\u001B[49m\u001B[43m \u001B[49m\u001B[43marg\u001B[49m\u001B[43m)\u001B[49m\n\u001B[0;32m    170\u001B[0m         \u001B[38;5;28;01mreturn\u001B[39;00m \u001B[38;5;28;01mTrue\u001B[39;00m\n\u001B[0;32m    171\u001B[0m \u001B[38;5;28;01mreturn\u001B[39;00m \u001B[38;5;28;01mFalse\u001B[39;00m\n",
      "File \u001B[1;32mD:\\Program Files\\JetBrains\\PyCharm Professional\\plugins\\python\\helpers\\pydev\\pydevd.py:1160\u001B[0m, in \u001B[0;36mPyDB.do_wait_suspend\u001B[1;34m(self, thread, frame, event, arg, send_suspend_message, is_unhandled_exception)\u001B[0m\n\u001B[0;32m   1157\u001B[0m         from_this_thread\u001B[38;5;241m.\u001B[39mappend(frame_id)\n\u001B[0;32m   1159\u001B[0m \u001B[38;5;28;01mwith\u001B[39;00m \u001B[38;5;28mself\u001B[39m\u001B[38;5;241m.\u001B[39m_threads_suspended_single_notification\u001B[38;5;241m.\u001B[39mnotify_thread_suspended(thread_id, stop_reason):\n\u001B[1;32m-> 1160\u001B[0m     \u001B[38;5;28;43mself\u001B[39;49m\u001B[38;5;241;43m.\u001B[39;49m\u001B[43m_do_wait_suspend\u001B[49m\u001B[43m(\u001B[49m\u001B[43mthread\u001B[49m\u001B[43m,\u001B[49m\u001B[43m \u001B[49m\u001B[43mframe\u001B[49m\u001B[43m,\u001B[49m\u001B[43m \u001B[49m\u001B[43mevent\u001B[49m\u001B[43m,\u001B[49m\u001B[43m \u001B[49m\u001B[43marg\u001B[49m\u001B[43m,\u001B[49m\u001B[43m \u001B[49m\u001B[43msuspend_type\u001B[49m\u001B[43m,\u001B[49m\u001B[43m \u001B[49m\u001B[43mfrom_this_thread\u001B[49m\u001B[43m)\u001B[49m\n",
      "File \u001B[1;32mD:\\Program Files\\JetBrains\\PyCharm Professional\\plugins\\python\\helpers\\pydev\\pydevd.py:1175\u001B[0m, in \u001B[0;36mPyDB._do_wait_suspend\u001B[1;34m(self, thread, frame, event, arg, suspend_type, from_this_thread)\u001B[0m\n\u001B[0;32m   1172\u001B[0m             \u001B[38;5;28mself\u001B[39m\u001B[38;5;241m.\u001B[39m_call_mpl_hook()\n\u001B[0;32m   1174\u001B[0m         \u001B[38;5;28mself\u001B[39m\u001B[38;5;241m.\u001B[39mprocess_internal_commands()\n\u001B[1;32m-> 1175\u001B[0m         \u001B[43mtime\u001B[49m\u001B[38;5;241;43m.\u001B[39;49m\u001B[43msleep\u001B[49m\u001B[43m(\u001B[49m\u001B[38;5;241;43m0.01\u001B[39;49m\u001B[43m)\u001B[49m\n\u001B[0;32m   1177\u001B[0m \u001B[38;5;28mself\u001B[39m\u001B[38;5;241m.\u001B[39mcancel_async_evaluation(get_current_thread_id(thread), \u001B[38;5;28mstr\u001B[39m(\u001B[38;5;28mid\u001B[39m(frame)))\n\u001B[0;32m   1179\u001B[0m \u001B[38;5;66;03m# process any stepping instructions\u001B[39;00m\n",
      "\u001B[1;31mKeyboardInterrupt\u001B[0m: "
     ]
    }
   ],
   "source": [
    "for q, ranking in enumerate(queries_scores_100_topics):\n",
    "    top10 = np.argsort(ranking)[::-1][:10]\n",
    "    y_truth = []\n",
    "    y_pred = []\n",
    "    score = 2\n",
    "    for doc in top10:\n",
    "        if doc in dict_qrels.keys():\n",
    "            dict_relevance_doc = dict_qrels[doc]\n",
    "            if q in dict_relevance_doc.keys():\n",
    "                y_pred.append(score)\n",
    "                y_truth.append(dict_relevance_doc[q])\n",
    "        \n",
    "        score -= 0.2\n",
    "        "
   ],
   "metadata": {
    "collapsed": false,
    "ExecuteTime": {
     "end_time": "2024-05-21T09:02:45.413947600Z",
     "start_time": "2024-05-21T09:01:44.930121700Z"
    }
   },
   "id": "6901a22c9832531d"
  },
  {
   "cell_type": "code",
   "execution_count": 36,
   "outputs": [
    {
     "name": "stdout",
     "output_type": "stream",
     "text": [
      "{1: 0, 2: 0, 12: 0, 15: 0, 29: 0}\n"
     ]
    }
   ],
   "source": [
    "print(dict_qrels[5])"
   ],
   "metadata": {
    "collapsed": false,
    "ExecuteTime": {
     "end_time": "2024-05-21T09:16:06.660846600Z",
     "start_time": "2024-05-21T09:16:06.645658800Z"
    }
   },
   "id": "8a6d22dd222a9ace"
  },
  {
   "cell_type": "code",
   "execution_count": 49,
   "outputs": [],
   "source": [
    "def average_precision(query, scores, dict_qrels):\n",
    "    ranking = np.argsort(scores)[::-1]\n",
    "    \n",
    "    n_relevant = 0\n",
    "    sum_precision = 0.0\n",
    "    \n",
    "    for rank, doc in enumerate(ranking, start=1):\n",
    "        if dict_qrels[doc].get(query, 0) > 0:\n",
    "            n_relevant += 1\n",
    "            sum_precision += n_relevant / rank\n",
    "    \n",
    "    if n_relevant == 0:\n",
    "        return 0\n",
    "\n",
    "    return sum_precision / n_relevant"
   ],
   "metadata": {
    "collapsed": false,
    "ExecuteTime": {
     "end_time": "2024-05-21T09:52:12.989371400Z",
     "start_time": "2024-05-21T09:52:12.980863900Z"
    }
   },
   "id": "fa15322365ccd031"
  },
  {
   "cell_type": "code",
   "execution_count": 50,
   "outputs": [
    {
     "name": "stdout",
     "output_type": "stream",
     "text": [
      "0.016792510172324318\n"
     ]
    }
   ],
   "source": [
    "average_precision_list = [average_precision(query, scores, dict_qrels) for query, scores in enumerate(queries_scores_100_topics)]\n",
    "\n",
    "print(sum(average_precision_list) / len(average_precision_list))"
   ],
   "metadata": {
    "collapsed": false,
    "ExecuteTime": {
     "end_time": "2024-05-21T09:52:13.427684100Z",
     "start_time": "2024-05-21T09:52:13.371264700Z"
    }
   },
   "id": "1977a8f773cf4afa"
  },
  {
   "cell_type": "code",
   "execution_count": null,
   "outputs": [],
   "source": [],
   "metadata": {
    "collapsed": false
   },
   "id": "5be61029ea64fdcb"
  }
 ],
 "metadata": {
  "kernelspec": {
   "display_name": "Python 3",
   "language": "python",
   "name": "python3"
  },
  "language_info": {
   "codemirror_mode": {
    "name": "ipython",
    "version": 2
   },
   "file_extension": ".py",
   "mimetype": "text/x-python",
   "name": "python",
   "nbconvert_exporter": "python",
   "pygments_lexer": "ipython2",
   "version": "2.7.6"
  }
 },
 "nbformat": 4,
 "nbformat_minor": 5
}
